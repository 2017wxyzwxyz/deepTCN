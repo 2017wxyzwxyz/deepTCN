{
 "cells": [
  {
   "cell_type": "code",
   "execution_count": 1,
   "metadata": {},
   "outputs": [],
   "source": [
    "import os, sys, math, random, time\n",
    "from datetime import datetime\n",
    "import _pickle as pickle\n",
    "\n",
    "import numpy as np\n",
    "import pandas as pd\n",
    "\n",
    "import mxnet as mx\n",
    "from mxnet import autograd, gluon, nd, gpu\n",
    "from mxnet.gluon import nn\n",
    "\n",
    "from newModels import TCN\n",
    "from newTrainer import nn_trainer"
   ]
  },
  {
   "cell_type": "code",
   "execution_count": 2,
   "metadata": {},
   "outputs": [],
   "source": [
    "### The input dataset\n",
    "ctx = mx.gpu(0)\n",
    "with open('feature_prepare.pkl', 'rb') as f:\n",
    "    [trainX_dt,trainX2_dt, trainY_dt,trainY2_dt, testX_dt, testX2_dt,testY_dt,testY2_dt] = pickle.load(f)"
   ]
  },
  {
   "cell_type": "code",
   "execution_count": 3,
   "metadata": {},
   "outputs": [],
   "source": [
    "sub_train_X, sub_train_Y = nd.array(trainX_dt, ctx=ctx), nd.array(trainY_dt, ctx=ctx)\n",
    "sub_valid_X, sub_valid_Y = nd.array(testX_dt, ctx=ctx), nd.array(testY_dt, ctx=ctx)\n",
    "future_train_X, future_test_X = nd.array(trainY2_dt, ctx=ctx), nd.array(testY2_dt, ctx=ctx)\n",
    "\n",
    "weight = future_train_X[:,0:1,7]+3\n",
    "sub_train_nd = gluon.data.ArrayDataset(sub_train_X, future_train_X, sub_train_Y,weight)"
   ]
  },
  {
   "cell_type": "code",
   "execution_count": null,
   "metadata": {},
   "outputs": [
    {
     "name": "stderr",
     "output_type": "stream",
     "text": [
      "\r",
      "  0%|          | 0/500 [00:00<?, ?it/s]"
     ]
    },
    {
     "name": "stdout",
     "output_type": "stream",
     "text": [
      "(2590, 24)\n",
      "[12.690355  11.42132   11.42132   11.42132   12.690355  11.42132\n",
      " 11.42132   11.42132    5.0761423 10.152285   6.3451777  7.614213\n",
      "  6.3451777  6.3451777  6.3451777 15.228426  11.42132    7.614213\n",
      "  8.883248   7.614213   8.883248  10.152285   8.883248   8.883248 ]\n",
      "[0. 0. 0. 0. 0. 0. 0. 0. 0. 0. 0. 0. 0. 0. 0. 0. 0. 0. 0. 0. 0. 0. 0. 0.]\n",
      "Epoch 0, valid loss: 5140082.000000 valid ND: 1.000000, valid NRMSE 4.632637\n",
      "Epoch 0, valid loss: 5140082.000000 valid ND: 1.000000, valid NRMSE 4.582995\n",
      "Epoch 0, valid loss: 5140082.000000 valid rho-risk 50: 1.000000,  valid rho-risk 90: 1.800000\n",
      "----------------------------------The group result-------------------------------------\n",
      " average ND: 1.000000, valid NRMSE 1.01.0-1.0--1.0-1.0-1.0-1.0\n",
      " average NRMSE: 4.612024, valid NRMSE 4.4854284.436387-4.5919566--4.6564164-4.569165-4.522523-5.0222945\n",
      " average risk50: 1.000000, valid risk50 1.00000008701184081.0000000169464367-0.9999999180468667--0.9999999781606804-1.0000000515154435-1.000000006581116-1.0000000089341425\n",
      " average risk90: 1.800000, valid risk90 1.80000015662131351.8000000305035857-1.7999998524843601--1.7999999606892247-1.8000000927277988-1.800000011846009-1.8000000160814564\n"
     ]
    },
    {
     "name": "stderr",
     "output_type": "stream",
     "text": [
      "\r",
      "  0%|          | 1/500 [00:24<3:26:20, 24.81s/it]"
     ]
    },
    {
     "name": "stdout",
     "output_type": "stream",
     "text": [
      "(2590, 24)\n",
      "[12.690355  11.42132   11.42132   11.42132   12.690355  11.42132\n",
      " 11.42132   11.42132    5.0761423 10.152285   6.3451777  7.614213\n",
      "  6.3451777  6.3451777  6.3451777 15.228426  11.42132    7.614213\n",
      "  8.883248   7.614213   8.883248  10.152285   8.883248   8.883248 ]\n",
      "[0. 0. 0. 0. 0. 0. 0. 0. 0. 0. 0. 0. 0. 0. 0. 0. 0. 0. 0. 0. 0. 0. 0. 0.]\n",
      "Epoch 1, valid loss: 5140082.000000 valid ND: 1.000000, valid NRMSE 4.632637\n",
      "Epoch 1, valid loss: 5140082.000000 valid ND: 1.000000, valid NRMSE 4.582995\n",
      "Epoch 1, valid loss: 5140082.000000 valid rho-risk 50: 1.000000,  valid rho-risk 90: 1.800000\n",
      "----------------------------------The group result-------------------------------------\n",
      " average ND: 1.000000, valid NRMSE 1.01.0-1.0--1.0-1.0-1.0-1.0\n",
      " average NRMSE: 4.612024, valid NRMSE 4.4854284.436387-4.5919566--4.6564164-4.569165-4.522523-5.0222945\n",
      " average risk50: 1.000000, valid risk50 1.00000008701184081.0000000169464367-0.9999999180468667--0.9999999781606804-1.0000000515154435-1.000000006581116-1.0000000089341425\n",
      " average risk90: 1.800000, valid risk90 1.80000015662131351.8000000305035857-1.7999998524843601--1.7999999606892247-1.8000000927277988-1.800000011846009-1.8000000160814564\n"
     ]
    },
    {
     "name": "stderr",
     "output_type": "stream",
     "text": [
      "\r",
      "  0%|          | 2/500 [00:49<3:25:35, 24.77s/it]"
     ]
    },
    {
     "name": "stdout",
     "output_type": "stream",
     "text": [
      "(2590, 24)\n",
      "[12.690355  11.42132   11.42132   11.42132   12.690355  11.42132\n",
      " 11.42132   11.42132    5.0761423 10.152285   6.3451777  7.614213\n",
      "  6.3451777  6.3451777  6.3451777 15.228426  11.42132    7.614213\n",
      "  8.883248   7.614213   8.883248  10.152285   8.883248   8.883248 ]\n",
      "[0. 0. 0. 0. 0. 0. 0. 0. 0. 0. 0. 0. 0. 0. 0. 0. 0. 0. 0. 0. 0. 0. 0. 0.]\n",
      "Epoch 2, valid loss: 5140082.000000 valid ND: 1.000000, valid NRMSE 4.632637\n",
      "Epoch 2, valid loss: 5140082.000000 valid ND: 1.000000, valid NRMSE 4.582995\n",
      "Epoch 2, valid loss: 5140082.000000 valid rho-risk 50: 1.000000,  valid rho-risk 90: 1.800000\n",
      "----------------------------------The group result-------------------------------------\n",
      " average ND: 1.000000, valid NRMSE 1.01.0-1.0--1.0-1.0-1.0-1.0\n",
      " average NRMSE: 4.612024, valid NRMSE 4.4854284.436387-4.5919566--4.6564164-4.569165-4.522523-5.0222945\n",
      " average risk50: 1.000000, valid risk50 1.00000008701184081.0000000169464367-0.9999999180468667--0.9999999781606804-1.0000000515154435-1.000000006581116-1.0000000089341425\n",
      " average risk90: 1.800000, valid risk90 1.80000015662131351.8000000305035857-1.7999998524843601--1.7999999606892247-1.8000000927277988-1.800000011846009-1.8000000160814564\n"
     ]
    },
    {
     "name": "stderr",
     "output_type": "stream",
     "text": [
      "\r",
      "  1%|          | 3/500 [01:14<3:25:07, 24.76s/it]"
     ]
    }
   ],
   "source": [
    "model1 = TCN()\n",
    "#choose parameters\n",
    "batch_size= 512\n",
    "n_epochs=500\n",
    "\"\"\"\n",
    "The model training\n",
    "\"\"\"\n",
    "### The model parameters\n",
    "abs_loss = gluon.loss.L1Loss()\n",
    "L2_loss = gluon.loss.L2Loss()\n",
    "huber_loss = gluon.loss.HuberLoss()\n",
    "initializer = mx.initializer.MSRAPrelu()\n",
    "optimizer = 'adam';\n",
    "optimizer_params = {'learning_rate': 0.05}\n",
    "\n",
    "trainer_params_list = {'batch_size': batch_size,'epoch_num':n_epochs,\n",
    "                'loss_func': huber_loss, 'initializer': initializer,\n",
    "                'optimizer':optimizer, 'optimizer_params':optimizer_params}\n",
    "train_mark='testing'\n",
    "nn_trainer(train_mark, model1, sub_train_nd, sub_valid_X,future_test_X, sub_valid_Y, trainer_params_list=trainer_params_list, ctx=ctx)"
   ]
  }
 ],
 "metadata": {
  "kernelspec": {
   "display_name": "Python 3",
   "language": "python",
   "name": "python3"
  },
  "language_info": {
   "codemirror_mode": {
    "name": "ipython",
    "version": 3
   },
   "file_extension": ".py",
   "mimetype": "text/x-python",
   "name": "python",
   "nbconvert_exporter": "python",
   "pygments_lexer": "ipython3",
   "version": "3.6.4"
  }
 },
 "nbformat": 4,
 "nbformat_minor": 2
}
